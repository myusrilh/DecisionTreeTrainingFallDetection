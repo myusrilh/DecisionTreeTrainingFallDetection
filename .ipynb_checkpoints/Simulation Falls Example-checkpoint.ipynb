{
 "cells": [
  {
   "cell_type": "code",
   "execution_count": 5,
   "metadata": {},
   "outputs": [],
   "source": [
    "import paho.mqtt.client as mqtt\n",
    "import random\n",
    "import time\n",
    "import json\n",
    "\n",
    "class PublishMQTT():\n",
    "    \n",
    "    def on_publish(client,userdata,result):             #create function for callback\n",
    "        print(\"data published \\n\")\n",
    "        pass\n",
    "\n",
    "    def on_connect(self, client, userdata, flags, rc):    \n",
    "        print(\"Result from connect: {}\".format(mqtt.connack_string(rc)))\n"
   ]
  },
  {
   "cell_type": "code",
   "execution_count": null,
   "metadata": {},
   "outputs": [
    {
     "name": "stdout",
     "output_type": "stream",
     "text": [
      "{'Ax': [0.5378454208619253], 'Ay': [0.9686062754793561], 'Az': [0.43325567126233855], 'Gx': [0.7003314689109875], 'Gy': [0.5096825380177686], 'Gz': [0.27248830152862735], 'd_time': [1.6547684078823877]}\n",
      "Result from connect: Connection Accepted.\n"
     ]
    }
   ],
   "source": [
    "if __name__ == \"__main__\":\n",
    "    \n",
    "    fall = PublishMQTT()\n",
    "    \n",
    "    pub_topic = \"arduino/falls\" #topic from arduino to ML model\n",
    "#     client_id = f'python-mqtt-{random.randint(0, 1000)}'\n",
    "\n",
    "    \n",
    "    ax = random.uniform(0.0,1.0)\n",
    "    ay = random.uniform(0.0,1.0)\n",
    "    az = random.uniform(0.0,1.0)\n",
    "    gx = random.uniform(0.0,1.0)\n",
    "    gy = random.uniform(0.0,1.0)\n",
    "    gz = random.uniform(0.0,1.0)\n",
    "    \n",
    "    dTime = time.time()/1000000000.0\n",
    "    \n",
    "    payload = {\"Ax\":[ax],\n",
    "        \"Ay\":[ay],\n",
    "        \"Az\":[az],\n",
    "        \"Gx\":[gx],\n",
    "        \"Gy\":[gy],\n",
    "        \"Gz\":[gz],\n",
    "        \"d_time\":[dTime]}\n",
    "    \n",
    "    \n",
    "    print(payload)\n",
    "    \n",
    "    client = mqtt.Client(protocol=mqtt.MQTTv311)\n",
    "    \n",
    "    client.on_connect = fall.on_connect\n",
    "    client.on_publish = fall.on_publish\n",
    "    \n",
    "    client.publish(pub_topic, json.dumps(payload))\n",
    "    client.connect(host=\"broker.hivemq.com\", port=1883)\n",
    "    \n",
    "    client.loop_forever()\n",
    "    "
   ]
  },
  {
   "cell_type": "code",
   "execution_count": null,
   "metadata": {},
   "outputs": [],
   "source": []
  }
 ],
 "metadata": {
  "kernelspec": {
   "display_name": "Python 3",
   "language": "python",
   "name": "python3"
  },
  "language_info": {
   "codemirror_mode": {
    "name": "ipython",
    "version": 3
   },
   "file_extension": ".py",
   "mimetype": "text/x-python",
   "name": "python",
   "nbconvert_exporter": "python",
   "pygments_lexer": "ipython3",
   "version": "3.8.5"
  }
 },
 "nbformat": 4,
 "nbformat_minor": 4
}
